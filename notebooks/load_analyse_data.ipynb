{
 "cells": [
  {
   "cell_type": "code",
   "execution_count": 1,
   "metadata": {},
   "outputs": [],
   "source": [
    "import os\n",
    "# add path\n",
    "import sys\n",
    "sys.path.append(\"/Users/kazinazmulhaque/work/QH/app/healthai/backend\")\n",
    "import pandas as pd\n",
    "# from config.formula import integrated_formulations, presentation_factors, precipitating_factors, predisposing_factors, perpetuating_factors, protective_factors, multiple_factors\n",
    "from lib.formula_cal import get_formulation_label"
   ]
  },
  {
   "cell_type": "code",
   "execution_count": 2,
   "metadata": {},
   "outputs": [],
   "source": [
    "\n",
    "data_location = \"/Users/kazinazmulhaque/work/QH/data/Formulation20240326085656/Formulation Report 2 Converted 04dec23.xlsx\""
   ]
  },
  {
   "cell_type": "code",
   "execution_count": 3,
   "metadata": {},
   "outputs": [],
   "source": [
    "# get the sheet names\n",
    "xls = pd.ExcelFile(data_location)"
   ]
  },
  {
   "cell_type": "code",
   "execution_count": 4,
   "metadata": {},
   "outputs": [],
   "source": [
    "# load the first sheet\n",
    "df = pd.read_excel(xls, sheet_name=xls.sheet_names[2])"
   ]
  },
  {
   "cell_type": "code",
   "execution_count": 5,
   "metadata": {},
   "outputs": [
    {
     "data": {
      "text/plain": [
       "(Timestamp('2017-12-12 13:00:00'), Timestamp('2020-12-31 16:30:00'))"
      ]
     },
     "execution_count": 5,
     "metadata": {},
     "output_type": "execute_result"
    }
   ],
   "source": [
    "df['eventdate'].min(), df['eventdate'].max()"
   ]
  },
  {
   "cell_type": "code",
   "execution_count": 6,
   "metadata": {},
   "outputs": [],
   "source": [
    "start_date = pd.to_datetime(\"2020-02-01\")\n",
    "end_date = pd.to_datetime(\"2020-03-30\")"
   ]
  },
  {
   "cell_type": "code",
   "execution_count": 7,
   "metadata": {},
   "outputs": [],
   "source": [
    "# filter the data\n",
    "filtered_data = df[(df['eventdate'] >= start_date) & (df['eventdate'] <= end_date)]"
   ]
  },
  {
   "cell_type": "code",
   "execution_count": 8,
   "metadata": {},
   "outputs": [
    {
     "name": "stderr",
     "output_type": "stream",
     "text": [
      "/var/folders/01/mb3h_0h913vbhsqqxsllzp200000gn/T/ipykernel_13674/2996370806.py:1: SettingWithCopyWarning: \n",
      "A value is trying to be set on a copy of a slice from a DataFrame\n",
      "\n",
      "See the caveats in the documentation: https://pandas.pydata.org/pandas-docs/stable/user_guide/indexing.html#returning-a-view-versus-a-copy\n",
      "  filtered_data.sort_values(by='eventdate', ascending=True, inplace=True)\n"
     ]
    }
   ],
   "source": [
    "filtered_data.sort_values(by='eventdate', ascending=True, inplace=True)"
   ]
  },
  {
   "cell_type": "code",
   "execution_count": 9,
   "metadata": {},
   "outputs": [
    {
     "data": {
      "text/plain": [
       "(Timestamp('2020-02-01 07:45:00'), Timestamp('2020-03-29 23:08:13'))"
      ]
     },
     "execution_count": 9,
     "metadata": {},
     "output_type": "execute_result"
    }
   ],
   "source": [
    "filtered_data['eventdate'].min(), filtered_data['eventdate'].max()"
   ]
  },
  {
   "cell_type": "code",
   "execution_count": 11,
   "metadata": {},
   "outputs": [
    {
     "name": "stderr",
     "output_type": "stream",
     "text": [
      "/var/folders/01/mb3h_0h913vbhsqqxsllzp200000gn/T/ipykernel_13674/3394141990.py:2: SettingWithCopyWarning: \n",
      "A value is trying to be set on a copy of a slice from a DataFrame.\n",
      "Try using .loc[row_indexer,col_indexer] = value instead\n",
      "\n",
      "See the caveats in the documentation: https://pandas.pydata.org/pandas-docs/stable/user_guide/indexing.html#returning-a-view-versus-a-copy\n",
      "  filtered_data['month'] = filtered_data['eventdate'].dt.to_period('M')\n",
      "/var/folders/01/mb3h_0h913vbhsqqxsllzp200000gn/T/ipykernel_13674/3394141990.py:4: SettingWithCopyWarning: \n",
      "A value is trying to be set on a copy of a slice from a DataFrame.\n",
      "Try using .loc[row_indexer,col_indexer] = value instead\n",
      "\n",
      "See the caveats in the documentation: https://pandas.pydata.org/pandas-docs/stable/user_guide/indexing.html#returning-a-view-versus-a-copy\n",
      "  filtered_data['iformula'] = [ifor for fac, ifor in all_results]\n",
      "/var/folders/01/mb3h_0h913vbhsqqxsllzp200000gn/T/ipykernel_13674/3394141990.py:5: SettingWithCopyWarning: \n",
      "A value is trying to be set on a copy of a slice from a DataFrame.\n",
      "Try using .loc[row_indexer,col_indexer] = value instead\n",
      "\n",
      "See the caveats in the documentation: https://pandas.pydata.org/pandas-docs/stable/user_guide/indexing.html#returning-a-view-versus-a-copy\n",
      "  filtered_data['factors'] = [fac for fac, ifor in all_results]\n"
     ]
    }
   ],
   "source": [
    "# group by month\n",
    "filtered_data['month'] = filtered_data['eventdate'].dt.to_period('M')\n",
    "all_results = list(map(get_formulation_label, list(filtered_data['formulationOverallClinicalImpression'])))\n",
    "filtered_data['iformula'] = [ifor for fac, ifor in all_results]\n",
    "filtered_data['factors'] = [fac for fac, ifor in all_results]"
   ]
  },
  {
   "cell_type": "code",
   "execution_count": 12,
   "metadata": {},
   "outputs": [],
   "source": [
    "# group by month\n",
    "grouped_data = filtered_data.groupby('month')"
   ]
  },
  {
   "cell_type": "code",
   "execution_count": 23,
   "metadata": {},
   "outputs": [],
   "source": [
    "final_dict = {}\n",
    "for group_n, group_df in grouped_data:\n",
    "    d = group_df['factors'].value_counts().to_dict()\n",
    "    d.update((group_df['iformula'].value_counts().to_dict()))\n",
    "    del d['absent integrated formulation']\n",
    "    final_dict[group_n] = d"
   ]
  },
  {
   "cell_type": "code",
   "execution_count": 43,
   "metadata": {},
   "outputs": [],
   "source": [
    "sum_df = pd.DataFrame(final_dict).fillna(0)"
   ]
  },
  {
   "cell_type": "code",
   "execution_count": 44,
   "metadata": {},
   "outputs": [],
   "source": [
    "for column in sum_df.columns:\n",
    "    sum_df[f'{column}_percentage'] = (sum_df[column] / sum_df[column].sum()) * 100\n",
    "    sum_df[f'{column}_percentage'] = sum_df[f'{column}_percentage'].round(1)"
   ]
  },
  {
   "cell_type": "code",
   "execution_count": 45,
   "metadata": {},
   "outputs": [
    {
     "data": {
      "text/html": [
       "<div>\n",
       "<style scoped>\n",
       "    .dataframe tbody tr th:only-of-type {\n",
       "        vertical-align: middle;\n",
       "    }\n",
       "\n",
       "    .dataframe tbody tr th {\n",
       "        vertical-align: top;\n",
       "    }\n",
       "\n",
       "    .dataframe thead th {\n",
       "        text-align: right;\n",
       "    }\n",
       "</style>\n",
       "<table border=\"1\" class=\"dataframe\">\n",
       "  <thead>\n",
       "    <tr style=\"text-align: right;\">\n",
       "      <th></th>\n",
       "      <th>2020-02</th>\n",
       "      <th>2020-03</th>\n",
       "      <th>2020-02_percentage</th>\n",
       "      <th>2020-03_percentage</th>\n",
       "    </tr>\n",
       "  </thead>\n",
       "  <tbody>\n",
       "    <tr>\n",
       "      <th>limited 5 p's formulation</th>\n",
       "      <td>1296</td>\n",
       "      <td>1152.0</td>\n",
       "      <td>36.6</td>\n",
       "      <td>36.3</td>\n",
       "    </tr>\n",
       "    <tr>\n",
       "      <th>inclusive 5 p's formulation</th>\n",
       "      <td>922</td>\n",
       "      <td>842.0</td>\n",
       "      <td>26.0</td>\n",
       "      <td>26.5</td>\n",
       "    </tr>\n",
       "    <tr>\n",
       "      <th>absent 5 p's formulation</th>\n",
       "      <td>838</td>\n",
       "      <td>722.0</td>\n",
       "      <td>23.7</td>\n",
       "      <td>22.7</td>\n",
       "    </tr>\n",
       "    <tr>\n",
       "      <th>limited integrated formulation</th>\n",
       "      <td>482</td>\n",
       "      <td>458.0</td>\n",
       "      <td>13.6</td>\n",
       "      <td>14.4</td>\n",
       "    </tr>\n",
       "    <tr>\n",
       "      <th>inclusive integrated formulation</th>\n",
       "      <td>2</td>\n",
       "      <td>0.0</td>\n",
       "      <td>0.1</td>\n",
       "      <td>0.0</td>\n",
       "    </tr>\n",
       "  </tbody>\n",
       "</table>\n",
       "</div>"
      ],
      "text/plain": [
       "                                  2020-02  2020-03  2020-02_percentage  \\\n",
       "limited 5 p's formulation            1296   1152.0                36.6   \n",
       "inclusive 5 p's formulation           922    842.0                26.0   \n",
       "absent 5 p's formulation              838    722.0                23.7   \n",
       "limited integrated formulation        482    458.0                13.6   \n",
       "inclusive integrated formulation        2      0.0                 0.1   \n",
       "\n",
       "                                  2020-03_percentage  \n",
       "limited 5 p's formulation                       36.3  \n",
       "inclusive 5 p's formulation                     26.5  \n",
       "absent 5 p's formulation                        22.7  \n",
       "limited integrated formulation                  14.4  \n",
       "inclusive integrated formulation                 0.0  "
      ]
     },
     "execution_count": 45,
     "metadata": {},
     "output_type": "execute_result"
    }
   ],
   "source": [
    "sum_df"
   ]
  },
  {
   "cell_type": "code",
   "execution_count": 19,
   "metadata": {},
   "outputs": [
    {
     "data": {
      "text/plain": [
       "{\"limited 5 p's formulation\": 1296,\n",
       " \"inclusive 5 p's formulation\": 922,\n",
       " \"absent 5 p's formulation\": 838,\n",
       " 'limited integrated formulation': 482,\n",
       " 'inclusive integrated formulation': 2}"
      ]
     },
     "execution_count": 19,
     "metadata": {},
     "output_type": "execute_result"
    }
   ],
   "source": [
    "d"
   ]
  },
  {
   "cell_type": "code",
   "execution_count": 36,
   "metadata": {},
   "outputs": [
    {
     "data": {
      "text/html": [
       "<div>\n",
       "<style scoped>\n",
       "    .dataframe tbody tr th:only-of-type {\n",
       "        vertical-align: middle;\n",
       "    }\n",
       "\n",
       "    .dataframe tbody tr th {\n",
       "        vertical-align: top;\n",
       "    }\n",
       "\n",
       "    .dataframe thead th {\n",
       "        text-align: right;\n",
       "    }\n",
       "</style>\n",
       "<table border=\"1\" class=\"dataframe\">\n",
       "  <thead>\n",
       "    <tr style=\"text-align: right;\">\n",
       "      <th></th>\n",
       "      <th>factors_counts</th>\n",
       "      <th>iformula_counts</th>\n",
       "    </tr>\n",
       "  </thead>\n",
       "  <tbody>\n",
       "    <tr>\n",
       "      <th>absent</th>\n",
       "      <td>838</td>\n",
       "      <td>2572</td>\n",
       "    </tr>\n",
       "    <tr>\n",
       "      <th>inclusive</th>\n",
       "      <td>922</td>\n",
       "      <td>2</td>\n",
       "    </tr>\n",
       "    <tr>\n",
       "      <th>limited</th>\n",
       "      <td>1296</td>\n",
       "      <td>482</td>\n",
       "    </tr>\n",
       "  </tbody>\n",
       "</table>\n",
       "</div>"
      ],
      "text/plain": [
       "           factors_counts  iformula_counts\n",
       "absent                838             2572\n",
       "inclusive             922                2\n",
       "limited              1296              482"
      ]
     },
     "execution_count": 36,
     "metadata": {},
     "output_type": "execute_result"
    }
   ],
   "source": [
    "new_df = pd.DataFrame({\n",
    "    'factors_counts': group_df['factors'].value_counts(),\n",
    "    'iformula_counts': group_df['iformula'].value_counts()\n",
    "})\n",
    "new_df"
   ]
  },
  {
   "cell_type": "code",
   "execution_count": null,
   "metadata": {},
   "outputs": [],
   "source": [
    "text = list(group_df['formulationOverallClinicalImpression'])[0]\n",
    "text"
   ]
  },
  {
   "cell_type": "code",
   "execution_count": null,
   "metadata": {},
   "outputs": [],
   "source": [
    "def get_stat_from_text(text):\n",
    "    result = {}\n",
    "    return result"
   ]
  },
  {
   "cell_type": "code",
   "execution_count": null,
   "metadata": {},
   "outputs": [],
   "source": [
    "def scan_text_based_on_formulation(text, formulation_dict):\n",
    "    pass\n"
   ]
  },
  {
   "cell_type": "code",
   "execution_count": null,
   "metadata": {},
   "outputs": [],
   "source": [
    "formulation_dict = integrated_formulations"
   ]
  },
  {
   "cell_type": "code",
   "execution_count": null,
   "metadata": {},
   "outputs": [],
   "source": [
    "first_order_factors = formulation_dict['first_order']\n",
    "second_order_factors = formulation_dict['second_order']"
   ]
  },
  {
   "cell_type": "code",
   "execution_count": null,
   "metadata": {},
   "outputs": [],
   "source": [
    "# from collections import defaultdict\n",
    "# def get_exact_match_from_text(text, list_of_words):\n",
    "#     text = text.lower().strip()\n",
    "#     list_of_words = [word.lower().strip() for word in list_of_words]\n",
    "#     text_split = text.split(\" \")\n",
    "#     word_match_count_dict = defaultdict(int)\n",
    "\n",
    "#     for word in list_of_words:\n",
    "#         if word in text_split:\n",
    "#             word_match_count_dict[word] += text_split.count(word)\n",
    "    \n",
    "#     return word_match_count_dict\n",
    "\n",
    "# def get_prefix_match_from_text(text, list_of_words):\n",
    "#     text = text.lower().strip()\n",
    "#     list_of_words = [word.lower().strip() for word in list_of_words]\n",
    "#     text_split = text.split(\" \")\n",
    "#     word_match_count_dict = defaultdict(int)\n",
    "\n",
    "#     for word in list_of_words:\n",
    "#         for text_word in text_split:\n",
    "#             if text_word.startswith(word):\n",
    "#                 word_match_count_dict[word] += 1\n",
    "            \n",
    "    \n",
    "#     return word_match_count_dict\n",
    "\n",
    "# def get_exact_and_prefix_match_stat_from_text(text, order_dict):\n",
    "#     list_of_exact_words, list_of_prefix_words = order_dict['exact'], order_dict['prefix']\n",
    "#     exact_match_stat = get_exact_match_from_text(text, list_of_exact_words)\n",
    "#     prefix_match_stat = get_prefix_match_from_text(text, list_of_prefix_words)\n",
    "\n",
    "#     data = {\n",
    "#         \"exact_match\": exact_match_stat,\n",
    "#         \"prefix_match\": prefix_match_stat\n",
    "#     }\n",
    "#     return data\n",
    "# def get_match_stat_from_text(text, formulation_dict):\n",
    "#     first_order_dict = formulation_dict['first_order']\n",
    "#     second_order_dict = formulation_dict['second_order']\n",
    "\n",
    "#     first_order_stat = get_exact_and_prefix_match_stat_from_text(text, first_order_dict)\n",
    "#     second_order_stat = get_exact_and_prefix_match_stat_from_text(text, second_order_dict)\n",
    "\n",
    "#     data = {\n",
    "#         \"first_order\": first_order_stat,\n",
    "#         \"second_order\": second_order_stat\n",
    "#     }\n",
    "#     return data\n",
    "\n",
    "# def get_grouping_label(formulation_match_stat_dict, use_first_order = True, use_second_order = True, use_multiple_order = False):\n",
    "\n",
    "#     if use_multiple_order:\n",
    "#         raise NotImplementedError(\"Multiple order is not implemented yet\")\n",
    "    \n",
    "#     orders_to_use = [] + ([\"first_order\"] if use_first_order else []) + ([\"second_order\"] if use_second_order else [])\n",
    "#     new_stat_dict = {}\n",
    "#     for k,v in formulation_match_stat_dict.items():\n",
    "#         total_count = 0\n",
    "#         for order in orders_to_use:\n",
    "#             for k2,v2 in v[order].items():\n",
    "#                 total_count += len(v2.keys())\n",
    "#         new_stat_dict[k] = total_count\n",
    "\n",
    "    \n",
    "#     integrated = new_stat_dict.pop('integrated')\n",
    "#     multiple = new_stat_dict.pop('multiple')\n",
    "#     number_of_presented_formulation = len([k for k,v in new_stat_dict.items() if v > 0])\n",
    "\n",
    "#     if number_of_presented_formulation < 2:\n",
    "#         return \"absent\", 'absent'\n",
    "#     elif number_of_presented_formulation >=2 and number_of_presented_formulation < 4:\n",
    "#         return \"limited\", \"absent\"\n",
    "#     elif number_of_presented_formulation >= 4:\n",
    "#         if integrated == 0:\n",
    "#             return \"inclusive\", \"absent\"\n",
    "#         if integrated <= 3:\n",
    "#             return \"inclusive\", \"limited\"\n",
    "#         elif integrated >=4:\n",
    "#             return \"inclusive\", \"inclusive\"\n",
    "    \n"
   ]
  },
  {
   "cell_type": "code",
   "execution_count": null,
   "metadata": {},
   "outputs": [],
   "source": []
  },
  {
   "cell_type": "code",
   "execution_count": null,
   "metadata": {},
   "outputs": [],
   "source": []
  },
  {
   "cell_type": "code",
   "execution_count": null,
   "metadata": {},
   "outputs": [],
   "source": [
    "get_match_stat_from_text(text, integrated_formulations)"
   ]
  },
  {
   "cell_type": "code",
   "execution_count": 161,
   "metadata": {},
   "outputs": [],
   "source": []
  },
  {
   "cell_type": "code",
   "execution_count": 162,
   "metadata": {},
   "outputs": [],
   "source": [
    "formula_stat = {\n",
    "    \"integrated\": get_match_stat_from_text(text, integrated_formulations),\n",
    "    \"presentation\": get_match_stat_from_text(text, presentation_factors),\n",
    "    \"precipitating\": get_match_stat_from_text(text, precipitating_factors),\n",
    "    \"predisposing\": get_match_stat_from_text(text, predisposing_factors),\n",
    "    \"perpetuating\": get_match_stat_from_text(text, perpetuating_factors),\n",
    "    \"protective\": get_match_stat_from_text(text, protective_factors),\n",
    "    \"multiple\": get_match_stat_from_text(text, multiple_factors)\n",
    "}"
   ]
  },
  {
   "cell_type": "code",
   "execution_count": 187,
   "metadata": {},
   "outputs": [
    {
     "data": {
      "text/plain": [
       "('inclusive', 'limited')"
      ]
     },
     "execution_count": 187,
     "metadata": {},
     "output_type": "execute_result"
    }
   ],
   "source": []
  },
  {
   "cell_type": "code",
   "execution_count": 182,
   "metadata": {},
   "outputs": [],
   "source": [
    "def get_formulation_label(text):\n",
    "\n",
    "    formula_stat = {\n",
    "        \"integrated\": get_match_stat_from_text(text, integrated_formulations),\n",
    "        \"presentation\": get_match_stat_from_text(text, presentation_factors),\n",
    "        \"precipitating\": get_match_stat_from_text(text, precipitating_factors),\n",
    "        \"predisposing\": get_match_stat_from_text(text, predisposing_factors),\n",
    "        \"perpetuating\": get_match_stat_from_text(text, perpetuating_factors),\n",
    "        \"protective\": get_match_stat_from_text(text, protective_factors),\n",
    "        \"multiple\": get_match_stat_from_text(text, multiple_factors)\n",
    "    }\n",
    "\n",
    "    return get_grouping_label(formula_stat)\n"
   ]
  },
  {
   "cell_type": "code",
   "execution_count": 183,
   "metadata": {},
   "outputs": [],
   "source": [
    "text = \"Present percipit contribute predispos Protective gear differential gap\""
   ]
  },
  {
   "cell_type": "code",
   "execution_count": 184,
   "metadata": {},
   "outputs": [
    {
     "data": {
      "text/plain": [
       "{'integrated': {'first_order': {'exact_match': defaultdict(int,\n",
       "               {'differential': 1, 'gap': 1}),\n",
       "   'prefix_match': defaultdict(int, {})},\n",
       "  'second_order': {'exact_match': defaultdict(int, {}),\n",
       "   'prefix_match': defaultdict(int, {})}},\n",
       " 'presentation': {'first_order': {'exact_match': defaultdict(int, {}),\n",
       "   'prefix_match': defaultdict(int, {'present': 1})},\n",
       "  'second_order': {'exact_match': defaultdict(int, {}),\n",
       "   'prefix_match': defaultdict(int, {})}},\n",
       " 'precipitating': {'first_order': {'exact_match': defaultdict(int, {}),\n",
       "   'prefix_match': defaultdict(int, {'percipit': 1})},\n",
       "  'second_order': {'exact_match': defaultdict(int, {}),\n",
       "   'prefix_match': defaultdict(int, {})}},\n",
       " 'predisposing': {'first_order': {'exact_match': defaultdict(int, {}),\n",
       "   'prefix_match': defaultdict(int, {'predispos': 1})},\n",
       "  'second_order': {'exact_match': defaultdict(int, {}),\n",
       "   'prefix_match': defaultdict(int, {})}},\n",
       " 'perpetuating': {'first_order': {'exact_match': defaultdict(int,\n",
       "               {'contribute': 1}),\n",
       "   'prefix_match': defaultdict(int, {})},\n",
       "  'second_order': {'exact_match': defaultdict(int, {}),\n",
       "   'prefix_match': defaultdict(int, {})}},\n",
       " 'protective': {'first_order': {'exact_match': defaultdict(int, {}),\n",
       "   'prefix_match': defaultdict(int, {'protect': 1})},\n",
       "  'second_order': {'exact_match': defaultdict(int, {}),\n",
       "   'prefix_match': defaultdict(int, {})}},\n",
       " 'multiple': {'first_order': {'exact_match': defaultdict(int, {}),\n",
       "   'prefix_match': defaultdict(int, {})},\n",
       "  'second_order': {'exact_match': defaultdict(int, {}),\n",
       "   'prefix_match': defaultdict(int, {})}}}"
      ]
     },
     "execution_count": 184,
     "metadata": {},
     "output_type": "execute_result"
    }
   ],
   "source": [
    "formula_stat = {\n",
    "        \"integrated\": get_match_stat_from_text(text, integrated_formulations),\n",
    "        \"presentation\": get_match_stat_from_text(text, presentation_factors),\n",
    "        \"precipitating\": get_match_stat_from_text(text, precipitating_factors),\n",
    "        \"predisposing\": get_match_stat_from_text(text, predisposing_factors),\n",
    "        \"perpetuating\": get_match_stat_from_text(text, perpetuating_factors),\n",
    "        \"protective\": get_match_stat_from_text(text, protective_factors),\n",
    "        \"multiple\": get_match_stat_from_text(text, multiple_factors)\n",
    "    }\n",
    "formula_stat"
   ]
  },
  {
   "cell_type": "code",
   "execution_count": 185,
   "metadata": {},
   "outputs": [
    {
     "data": {
      "text/plain": [
       "{'first_order': {'exact': ['background'], 'prefix': ['predispos', 'vulnerab']},\n",
       " 'second_order': {'exact': ['hereditary', 'pattern', 'records', 'genetically'],\n",
       "  'prefix': []}}"
      ]
     },
     "execution_count": 185,
     "metadata": {},
     "output_type": "execute_result"
    }
   ],
   "source": [
    "predisposing_factors"
   ]
  },
  {
   "cell_type": "code",
   "execution_count": 186,
   "metadata": {},
   "outputs": [
    {
     "data": {
      "text/plain": [
       "{'first_order': {'exact': ['context', 'trigger'], 'prefix': ['percipit']},\n",
       " 'second_order': {'exact': ['relapse', 'instigate', 'induced', 'exacerbated'],\n",
       "  'prefix': []}}"
      ]
     },
     "execution_count": 186,
     "metadata": {},
     "output_type": "execute_result"
    }
   ],
   "source": [
    "precipitating_factors"
   ]
  },
  {
   "cell_type": "code",
   "execution_count": null,
   "metadata": {},
   "outputs": [],
   "source": []
  },
  {
   "cell_type": "code",
   "execution_count": null,
   "metadata": {},
   "outputs": [],
   "source": [
    "formula_stat = {\n",
    "    \"integrated\": get_match_stat_from_text(text, integrated_formulations),\n",
    "    \"presentation\": get_match_stat_from_text(text, presentation_factors),\n",
    "    \"precipitating\": get_match_stat_from_text(text, precipitating_factors),\n",
    "    \"predisposing\": get_match_stat_from_text(text, predisposing_factors),\n",
    "    \"perpetuating\": get_match_stat_from_text(text, perpetuating_factors),\n",
    "    \"protective\": get_match_stat_from_text(text, protective_factors),\n",
    "    \"multiple\": get_match_stat_from_text(text, multiple_factors)\n",
    "}"
   ]
  },
  {
   "cell_type": "code",
   "execution_count": 147,
   "metadata": {},
   "outputs": [],
   "source": [
    "formulation_match_stat_dict = formula_stat\n",
    "use_first_order = True\n",
    "use_second_order = True\n",
    "use_multiple_order = False\n",
    "\n",
    "if use_multiple_order:\n",
    "    raise NotImplementedError(\"Multiple order is not implemented yet\")\n",
    "\n",
    "orders_to_use = [] + ([\"first_order\"] if use_first_order else []) + ([\"second_order\"] if use_second_order else [])\n",
    "new_stat_dict = {}\n",
    "for k,v in formulation_match_stat_dict.items():\n",
    "    total_count = 0\n",
    "    for order in orders_to_use:\n",
    "        for k2,v2 in v[order].items():\n",
    "            total_count += len(v2.keys())\n",
    "    new_stat_dict[k] = total_count\n",
    "\n",
    "\n",
    "integrated = new_stat_dict.pop('integrated')\n",
    "multiple = new_stat_dict.pop('multiple')\n",
    "number_of_presented_formulation = len([k for k,v in new_stat_dict.items() if v > 0])"
   ]
  },
  {
   "cell_type": "code",
   "execution_count": 152,
   "metadata": {},
   "outputs": [
    {
     "data": {
      "text/plain": [
       "2"
      ]
     },
     "execution_count": 152,
     "metadata": {},
     "output_type": "execute_result"
    }
   ],
   "source": [
    "integrated"
   ]
  }
 ],
 "metadata": {
  "kernelspec": {
   "display_name": "Python 3",
   "language": "python",
   "name": "python3"
  },
  "language_info": {
   "codemirror_mode": {
    "name": "ipython",
    "version": 3
   },
   "file_extension": ".py",
   "mimetype": "text/x-python",
   "name": "python",
   "nbconvert_exporter": "python",
   "pygments_lexer": "ipython3",
   "version": "3.10.14"
  }
 },
 "nbformat": 4,
 "nbformat_minor": 2
}
