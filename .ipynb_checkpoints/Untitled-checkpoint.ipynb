{
 "cells": [
  {
   "cell_type": "code",
   "execution_count": null,
   "id": "9f0024ee-37e1-4cc8-a590-7c2c34fe9fcd",
   "metadata": {
    "scrolled": true
   },
   "outputs": [
    {
     "name": "stdout",
     "output_type": "stream",
     "text": [
      "main iter 600/38 current batch iter 639/100\n",
      "main iter 600/38 current batch iter 640/100\n",
      "main iter 600/38 current batch iter 641/100\n",
      "main iter 600/38 current batch iter 642/100\n",
      "main iter 600/38 current batch iter 643/100\n",
      "main iter 600/38 current batch iter 644/100\n",
      "main iter 600/38 current batch iter 645/100\n",
      "main iter 600/38 current batch iter 646/100\n",
      "main iter 600/38 current batch iter 647/100\n",
      "main iter 600/38 current batch iter 648/100\n",
      "main iter 600/38 current batch iter 649/100\n",
      "main iter 600/38 current batch iter 650/100\n",
      "main iter 600/38 current batch iter 651/100\n",
      "main iter 600/38 current batch iter 652/100\n",
      "main iter 600/38 current batch iter 653/100\n",
      "main iter 600/38 current batch iter 654/100\n",
      "main iter 600/38 current batch iter 655/100\n",
      "main iter 600/38 current batch iter 656/100\n",
      "main iter 600/38 current batch iter 657/100\n",
      "main iter 600/38 current batch iter 658/100\n",
      "main iter 600/38 current batch iter 659/100\n",
      "main iter 600/38 current batch iter 660/100\n",
      "main iter 600/38 current batch iter 661/100\n",
      "main iter 600/38 current batch iter 662/100\n",
      "main iter 600/38 current batch iter 663/100\n",
      "main iter 600/38 current batch iter 664/100\n",
      "main iter 600/38 current batch iter 665/100\n",
      "main iter 600/38 current batch iter 666/100\n",
      "main iter 600/38 current batch iter 667/100\n",
      "main iter 600/38 current batch iter 668/100\n",
      "main iter 600/38 current batch iter 669/100\n",
      "main iter 600/38 current batch iter 670/100\n",
      "main iter 600/38 current batch iter 671/100\n",
      "main iter 600/38 current batch iter 672/100\n",
      "main iter 600/38 current batch iter 673/100\n",
      "main iter 600/38 current batch iter 674/100\n",
      "main iter 600/38 current batch iter 675/100\n",
      "main iter 600/38 current batch iter 676/100\n",
      "main iter 600/38 current batch iter 677/100\n"
     ]
    }
   ],
   "source": [
    "import pandas as pd\n",
    "import time\n",
    "import os\n",
    "from backend.lib.formula_cal_LLM import get_formulation_label_LLM\n",
    "\n",
    "data_path = \"backend/data/data.csv\"\n",
    "data_checkpoint_path = \"backend/data/data_checkpoint.csv\"\n",
    "\n",
    "# Load the original data\n",
    "df = pd.read_csv(data_path)\n",
    "df['eventdate'] = pd.to_datetime(df['eventdate'])\n",
    "df['year'] = df['eventdate'].dt.year\n",
    "\n",
    "# Filter the DataFrame\n",
    "df = df[df['year'] == 2018].reset_index(drop=True)\n",
    "df = df[df[\"TreatingUnitDesc\"].apply(lambda x: \"rbwh\" in x.lower().strip())].reset_index(drop=True)\n",
    "df = df.sort_values(by='eventdate', ascending=True).reset_index(drop=True)\n",
    "# Keys we expect from the LLM function\n",
    "keys = ['integrated', 'perpetuating', 'precipitating', 'predisposing', 'presentation', 'protective']\n",
    "\n",
    "# Determine how many rows have already been processed\n",
    "start_index = 0\n",
    "if os.path.exists(data_checkpoint_path):\n",
    "    # We only need the count of processed rows from the checkpoint\n",
    "    checkpoint_df = pd.read_csv(data_checkpoint_path)\n",
    "    # The number of processed rows is just how many rows in the checkpoint\n",
    "    start_index = len(checkpoint_df)\n",
    "    print(f\"Found checkpoint with {start_index} rows already processed. Resuming...\")\n",
    "\n",
    "total_rows = len(df)\n",
    "remaining = total_rows - start_index\n",
    "if remaining <= 0:\n",
    "    print(\"All rows appear to be processed already.\")\n",
    "    exit()\n",
    "\n",
    "batch_size = 100\n",
    "batches = (remaining // batch_size) + (1 if remaining % batch_size != 0 else 0)\n",
    "\n",
    "print(f\"Starting processing from row {start_index} of {total_rows}.\")\n",
    "print(f\"Total batches to process: {batches}\")\n",
    "\n",
    "start_time = time.time()\n",
    "all_iter = list(range(start_index, total_rows, batch_size))\n",
    "for i in all_iter:\n",
    "    batch_end = min(i + batch_size, total_rows)\n",
    "    current_batch_size = batch_end - i\n",
    "    print(f\"Processing batch from row {i} to {batch_end - 1}\")\n",
    "\n",
    "    # We'll store results for this batch in a temporary DataFrame\n",
    "    batch_df = df.iloc[i:batch_end].copy()\n",
    "\n",
    "    for idx in range(i, batch_end):\n",
    "        print (f\"main iter {i}/{len(all_iter)} current batch iter {idx}/{batch_size}\")\n",
    "        text = df[\"formulationOverallClinicalImpression\"].iloc[idx]\n",
    "\n",
    "        # Run the LLM function\n",
    "        try:\n",
    "            result = get_formulation_label_LLM(text)\n",
    "            dict_of_5ps = result[-1]  # Assuming dictionary is last element returned\n",
    "\n",
    "            # Update the batch_df with the values\n",
    "            # idx_in_batch is the relative index inside this batch\n",
    "            idx_in_batch = idx - i\n",
    "            for k in keys:\n",
    "                batch_df.at[batch_df.index[idx_in_batch], k] = dict_of_5ps.get(k, None)\n",
    "\n",
    "        except Exception as e:\n",
    "            print(f\"Error processing row {idx}: {e}\")\n",
    "            # If there's an error, just set them to None\n",
    "            idx_in_batch = idx - i\n",
    "            for k in keys:\n",
    "                batch_df.at[batch_df.index[idx_in_batch], k] = None\n",
    "\n",
    "    # Now we have a batch_df that includes the processed data\n",
    "    # Append this to the checkpoint file\n",
    "    if not os.path.exists(data_checkpoint_path) or i == 0:\n",
    "        # If file doesn't exist or this is the very first batch, write with header\n",
    "        batch_df.to_csv(data_checkpoint_path, index=False, mode='w')\n",
    "    else:\n",
    "        # Append without header\n",
    "        batch_df.to_csv(data_checkpoint_path, index=False, mode='a', header=False)\n",
    "\n",
    "    # Time estimation\n",
    "    elapsed = time.time() - start_time\n",
    "    processed = batch_end - start_index\n",
    "    total_to_process = total_rows - start_index\n",
    "    avg_time_per_row = elapsed / processed\n",
    "    est_total_time = avg_time_per_row * total_to_process\n",
    "    est_remaining_time = est_total_time - elapsed\n",
    "\n",
    "    print(f\"Completed batch ending at row {batch_end - 1}.\")\n",
    "    print(f\"Elapsed time: {elapsed:.2f} seconds.\")\n",
    "    print(f\"Estimated total time: {est_total_time/60:.2f} minutes.\")\n",
    "    print(f\"Estimated remaining time: {est_remaining_time/60:.2f} minutes.\")\n",
    "\n",
    "print(\"Processing complete.\")"
   ]
  },
  {
   "cell_type": "code",
   "execution_count": 7,
   "id": "5a5bde80-7bbf-48ce-b728-935b83bb4a1c",
   "metadata": {},
   "outputs": [
    {
     "data": {
      "text/plain": [
       "{1}"
      ]
     },
     "execution_count": 7,
     "metadata": {},
     "output_type": "execute_result"
    }
   ],
   "source": [
    "d.copy()"
   ]
  },
  {
   "cell_type": "code",
   "execution_count": 4,
   "id": "1a7f3684-809d-41ae-b4af-d9c87f02f42f",
   "metadata": {},
   "outputs": [],
   "source": []
  },
  {
   "cell_type": "code",
   "execution_count": 5,
   "id": "63a70e87-68cf-4a64-80cd-5e2250fbc938",
   "metadata": {},
   "outputs": [],
   "source": []
  },
  {
   "cell_type": "code",
   "execution_count": 6,
   "id": "b95898b7-4585-4d76-af8d-c34caf3a9dff",
   "metadata": {},
   "outputs": [
    {
     "data": {
      "text/plain": [
       "year\n",
       "2017        4\n",
       "2018    16160\n",
       "2019    27165\n",
       "2020    37343\n",
       "dtype: int64"
      ]
     },
     "execution_count": 6,
     "metadata": {},
     "output_type": "execute_result"
    }
   ],
   "source": []
  },
  {
   "cell_type": "code",
   "execution_count": 7,
   "id": "3d881fb9-7be0-4373-b7b1-72ebeabcab7b",
   "metadata": {},
   "outputs": [],
   "source": []
  },
  {
   "cell_type": "code",
   "execution_count": 8,
   "id": "13471812-3a34-47ba-a35f-81d601a95ba6",
   "metadata": {},
   "outputs": [
    {
     "data": {
      "text/plain": [
       "Index(['Template', 'eventdate', 'formulationOverallClinicalImpression',\n",
       "       'TreatingUnitDesc', 'TUSpecialServiceType', 'char_len',\n",
       "       'grouped_char_len', 'year'],\n",
       "      dtype='object')"
      ]
     },
     "execution_count": 8,
     "metadata": {},
     "output_type": "execute_result"
    }
   ],
   "source": [
    "df.columns"
   ]
  },
  {
   "cell_type": "code",
   "execution_count": 9,
   "id": "bd91f5cc-1566-448a-ad70-0635dffbcb81",
   "metadata": {},
   "outputs": [],
   "source": []
  },
  {
   "cell_type": "code",
   "execution_count": 10,
   "id": "5caedf12-13e0-46a5-9393-68ffafef84d9",
   "metadata": {},
   "outputs": [
    {
     "data": {
      "text/plain": [
       "\"Anthony is a 40 year old single man; a voluntary patient, who receives the DSP, and who lives alone in a one bedroom department of housing unit in New Farm. Anthony was initially diagnosed with Tourettes in Grade seven which presented themselves in the form of vocal tics which progressed to motor head tics during high school years. Anthony reports that his Tourettes progressed to a diagnosis of Paranoid Schizophrenia and Obsessive Compulsive disorder. Collateral from father suggests that Anthony's diagnosis was in line with Anthony's marijuana use in his teens. Anthony has only ever been admitted to hospital on one occasion in 1996, when he was 19 years of age. He was commenced on Clozapine during this admission and has been managed on this regime ever since. The Clinical notes indicate that when Anthony is unwell he experienced ideas of reference and a believed that he was receiving messagesabout the future. He would ask co-patients and others around him about his future. Anthony is in regular contact with his GP Dr Vo at the New Farm Medical Centre and is quite concrete in his routine regarding filling his Clozapine scripts, ect. He reports that his Tourette's Tics have improved significantly on the Clozapine but it is noted in the Clinical documentation that the Clozapine has exacerbated his OCD symptoms. He has numerous obsessive behaviours that include touching his walls, places on his television speakers, turning taps on and off, flicking buttons on and off, touching his pictures that are hanging on his walls and ensuring that his curtains are hung equally at a specified height. These checks/repeated behaviours are completed in patterns of 4, most commonly 16 times, but are sometimes ceased after 12 repeated touches due to Anthony living in unit number 12 in his apartment building.At some stage in his treatment, Anthony was commenced on Clomipramine (later increased to a dose of 150mg) in 07/2015 and refused an increase in his Clozapine despite low therapeutic levels. Reason for declining an increased dose of Clozapine was that Anthony reported side effects of Sialorrhoea during sleep, which he has attempted to minimise by placing a towel over his pillow. It is unclear if the Chlomipramine was effective at reducing Anthony's symptoms. He self-reports that there was no benefit from this medication and it appears that the medication was ceased in 05/17 (?). Appears that since this medication was ceased, Anthony's mental state deteriorated and family voiced significant concerns about Anthony's physical and mental health. An unannounced home visit was subsequently completed by a Clinician who identified a number of concerning issues relating to Anthony's accommodation. These issues included:- A blocked toilet - Anthony's reported that his toilet was blocked and had not been working for approximately twelve months, - A broken washing machine - Anthony had been hand washing his clothes- A broken fridge that was situated in his bathroom and which he was reluctant to dispose of. The fridge was preventing Anthony from accessing his shower and Anthony admitted to only showering around once per month.- Leaking taps - Anthony reported his taps were leaking because of him turning them on and off repeatedly. He was waiting for them to break before he contacted a plumber to fix the taps and toilet. - Dirty apartment - There were also significant cleaning issues relating to dirty marks/ hand prints on the walls and dirty carpet and lounge, which Anthony was reluctant to clean. A thick layer of dirt/dust was observed underneath his bed.- A significant deterioration in Anthony's self cares was also noted. He was malodorous, sweating profusely, and there were a number of skin lesions observed on his skin which were likely to be associated with Anthony's poor hygiene. At an subsequent Doctor's appointments it was documented that Anthony's mental state had deteriorated, with a worsening of OCD symptoms, and concerning self cares. Anthony refused to recommence the Chlomipramine and was commenced on Sertraline which has now been uptitrated to 200mg in recent months. \""
      ]
     },
     "execution_count": 10,
     "metadata": {},
     "output_type": "execute_result"
    }
   ],
   "source": []
  },
  {
   "cell_type": "code",
   "execution_count": 11,
   "id": "fc581f50-51b7-4fbf-bdcb-1ad2ea15e4cb",
   "metadata": {},
   "outputs": [],
   "source": []
  },
  {
   "cell_type": "code",
   "execution_count": 12,
   "id": "d6291312-fbf6-4916-b16e-d6bf8ff93095",
   "metadata": {},
   "outputs": [
    {
     "data": {
      "text/plain": [
       "((\"Inclusive 5 P's Formulation\", 'Absent Integrated Formulation', []),\n",
       " {},\n",
       " {'perpetuating': 1,\n",
       "  'precipitating': 2,\n",
       "  'predisposing': 3,\n",
       "  'presentation': 4,\n",
       "  'protective': 5})"
      ]
     },
     "execution_count": 12,
     "metadata": {},
     "output_type": "execute_result"
    }
   ],
   "source": []
  },
  {
   "cell_type": "code",
   "execution_count": null,
   "id": "8bfadd70-4582-4da2-a120-bb64ebce6265",
   "metadata": {},
   "outputs": [],
   "source": []
  }
 ],
 "metadata": {
  "kernelspec": {
   "display_name": "myenv",
   "language": "python",
   "name": "myenv"
  },
  "language_info": {
   "codemirror_mode": {
    "name": "ipython",
    "version": 3
   },
   "file_extension": ".py",
   "mimetype": "text/x-python",
   "name": "python",
   "nbconvert_exporter": "python",
   "pygments_lexer": "ipython3",
   "version": "3.10.16"
  }
 },
 "nbformat": 4,
 "nbformat_minor": 5
}
